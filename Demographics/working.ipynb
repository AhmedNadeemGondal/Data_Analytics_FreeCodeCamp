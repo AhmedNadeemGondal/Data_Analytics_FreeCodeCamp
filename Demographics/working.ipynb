{
 "cells": [
  {
   "cell_type": "code",
   "execution_count": 97,
   "metadata": {},
   "outputs": [],
   "source": [
    "import pandas as pd"
   ]
  },
  {
   "cell_type": "code",
   "execution_count": 98,
   "metadata": {},
   "outputs": [],
   "source": [
    "df = pd.read_csv('adult.data.csv')\n",
    "# df.head()"
   ]
  },
  {
   "cell_type": "code",
   "execution_count": 113,
   "metadata": {},
   "outputs": [
    {
     "data": {
      "text/plain": [
       "[27816, 3124, 1039, 311, 271]"
      ]
     },
     "execution_count": 113,
     "metadata": {},
     "output_type": "execute_result"
    }
   ],
   "source": [
    "race_count = df['race'].value_counts().to_list()\n",
    "race_count"
   ]
  },
  {
   "cell_type": "code",
   "execution_count": 110,
   "metadata": {},
   "outputs": [
    {
     "data": {
      "text/plain": [
       "float"
      ]
     },
     "execution_count": 110,
     "metadata": {},
     "output_type": "execute_result"
    }
   ],
   "source": [
    "# average_age_men = df[df['sex'] =='Male']\n",
    "# average_age_men = average_age_men['age'].mean()\n",
    "# average_age_men = {'average_age_men':round(average_age_men,1)}\n",
    "average_age_men = {'average_age_men': round(df[df['sex'] == 'Male']['age'].mean(), 1)}\n",
    "type(average_age_men['average_age_men'])"
   ]
  },
  {
   "cell_type": "code",
   "execution_count": 101,
   "metadata": {},
   "outputs": [],
   "source": [
    "percentage_bachelors = {'percentage_bachelors': round(df['education'].value_counts()['Bachelors']/df['education'].value_counts().sum()*100,1)}\n",
    "# percentage_bachelors['percentage_bachelors']"
   ]
  },
  {
   "cell_type": "code",
   "execution_count": 102,
   "metadata": {},
   "outputs": [],
   "source": [
    "adv_edu = df[(df['education'] == 'Bachelors') | (df['education'] == 'Masters')| (df['education'] == 'Doctorate')]\n",
    "higher_education_rich = {'higher_education_rich':round(adv_edu[adv_edu['salary'] == '>50K'].shape[0]/adv_edu.shape[0]*100,1)}\n",
    "# higher_education_rich['higher_education_rich']"
   ]
  },
  {
   "cell_type": "code",
   "execution_count": 103,
   "metadata": {},
   "outputs": [],
   "source": [
    "low_edu = df[(df['education'] != 'Bachelors') & (df['education'] != 'Masters') & (df['education'] != 'Doctorate')]\n",
    "lower_education_rich = {'lower_education_rich':round(low_edu[low_edu['salary'] == '>50K'].shape[0]/low_edu.shape[0]*100,1)}\n",
    "# lower_education_rich['lower_education_rich']"
   ]
  },
  {
   "cell_type": "code",
   "execution_count": 104,
   "metadata": {},
   "outputs": [],
   "source": [
    "min_work_hours = {'min_work_hours':df['hours-per-week'].min()}\n",
    "# min_work_hours['min_work_hours']"
   ]
  },
  {
   "cell_type": "code",
   "execution_count": 105,
   "metadata": {},
   "outputs": [],
   "source": [
    "min_rich = df[df['hours-per-week'] == 1]\n",
    "rich_percentage = {'rich_percentage': int(round(min_rich[min_rich['salary'] == '>50K'].shape[0]/min_rich.shape[0]*100,1))}\n",
    "# rich_percentage['rich_percentage']"
   ]
  },
  {
   "cell_type": "code",
   "execution_count": 106,
   "metadata": {},
   "outputs": [],
   "source": [
    "country_rich = df[df['salary'] == '>50K']\n",
    "highest_earning_country = {'highest_earning_country':country_rich['native-country'].value_counts().to_frame().idxmax().item()}\n",
    "# highest_earning_country['highest_earning_country']\n"
   ]
  },
  {
   "cell_type": "code",
   "execution_count": 107,
   "metadata": {},
   "outputs": [],
   "source": [
    "country_rich = df[df['salary'] == '>50K']\n",
    "# country_rich['native-country'].value_counts()\n",
    "highest_earning_country_percentage = {'highest_earning_country_percentage':round(country_rich['native-country'].value_counts()['United-States']/country_rich['native-country'].value_counts().sum()*100,1)}\n",
    "# highest_earning_country_percentage['highest_earning_country_percentage']"
   ]
  },
  {
   "cell_type": "code",
   "execution_count": 108,
   "metadata": {},
   "outputs": [],
   "source": [
    "india = df[(df['salary'] == '>50K') & (df['native-country'] == 'India')]\n",
    "top_IN_occupation = {'top_IN_occupation':india['occupation'].value_counts().to_frame().idxmax().item()}\n",
    "# top_IN_occupation['top_IN_occupation']"
   ]
  }
 ],
 "metadata": {
  "kernelspec": {
   "display_name": "base",
   "language": "python",
   "name": "python3"
  },
  "language_info": {
   "codemirror_mode": {
    "name": "ipython",
    "version": 3
   },
   "file_extension": ".py",
   "mimetype": "text/x-python",
   "name": "python",
   "nbconvert_exporter": "python",
   "pygments_lexer": "ipython3",
   "version": "3.9.13"
  },
  "orig_nbformat": 4
 },
 "nbformat": 4,
 "nbformat_minor": 2
}
